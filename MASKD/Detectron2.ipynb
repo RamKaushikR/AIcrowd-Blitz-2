{
 "cells": [
  {
   "cell_type": "code",
   "execution_count": null,
   "metadata": {
    "colab": {},
    "colab_type": "code",
    "id": "0QfRL0LgE0Mv"
   },
   "outputs": [],
   "source": [
    "#MASKD Best Submission : \n",
    "#Train CascadeRCNN Resnest101 :\n",
    "\n",
    "#Train data : Iterations : 2200 BaseLR : 0.0005 - Save Model\n",
    "#Load weights of saved model and \n",
    "#Train data : Iterations : 400 BaseLR : 0.00025"
   ]
  },
  {
   "cell_type": "code",
   "execution_count": null,
   "metadata": {
    "colab": {},
    "colab_type": "code",
    "id": "eR-CAd6YyaNP"
   },
   "outputs": [],
   "source": [
    "import pandas as pd\n",
    "import numpy as np\n",
    "import os\n",
    "from tqdm import tqdm"
   ]
  },
  {
   "cell_type": "code",
   "execution_count": null,
   "metadata": {
    "colab": {},
    "colab_type": "code",
    "id": "kGtkvN8cyaFQ"
   },
   "outputs": [],
   "source": [
    "os.chdir(\"/content/drive/My Drive/blitz/maskd\")"
   ]
  },
  {
   "cell_type": "code",
   "execution_count": null,
   "metadata": {
    "colab": {},
    "colab_type": "code",
    "id": "duGiiV0oxtFq"
   },
   "outputs": [],
   "source": [
    "!wget -q https://s3.eu-central-1.wasabisys.com/aicrowd-practice-challenges/public/maskd/v0.1/train_images.zip\n",
    "!wget -q https://s3.eu-central-1.wasabisys.com/aicrowd-practice-challenges/public/maskd/v0.1/val_images.zip\n",
    "!wget -q https://s3.eu-central-1.wasabisys.com/aicrowd-practice-challenges/public/maskd/v0.1/test_images.zip"
   ]
  },
  {
   "cell_type": "code",
   "execution_count": null,
   "metadata": {
    "colab": {},
    "colab_type": "code",
    "id": "AScba2WMyIkD"
   },
   "outputs": [],
   "source": [
    "!unzip -q train_images.zip\n",
    "!unzip -q val_images.zip\n",
    "!unzip -q test_images.zip"
   ]
  },
  {
   "cell_type": "code",
   "execution_count": null,
   "metadata": {
    "colab": {},
    "colab_type": "code",
    "id": "XUjxRxw7yv6l"
   },
   "outputs": [],
   "source": [
    "!wget -q https://s3.eu-central-1.wasabisys.com/aicrowd-practice-challenges/public/maskd/v0.1/train.json\n",
    "!wget -q https://s3.eu-central-1.wasabisys.com/aicrowd-practice-challenges/public/maskd/v0.1/val.json\n",
    "!wget -q https://s3.eu-central-1.wasabisys.com/aicrowd-practice-challenges/public/maskd/v0.1/test.json"
   ]
  },
  {
   "cell_type": "code",
   "execution_count": null,
   "metadata": {
    "colab": {
     "base_uri": "https://localhost:8080/",
     "height": 364
    },
    "colab_type": "code",
    "id": "n12ccFdey2r7",
    "outputId": "f5e347b2-26d0-4f14-b6cd-16a8449b91e1"
   },
   "outputs": [],
   "source": [
    "!nvidia-smi"
   ]
  },
  {
   "cell_type": "code",
   "execution_count": null,
   "metadata": {
    "colab": {
     "base_uri": "https://localhost:8080/",
     "height": 649
    },
    "colab_type": "code",
    "id": "pagC6-hG0DtZ",
    "outputId": "b4ee198b-0293-459a-ae4b-8a9b991ffea6"
   },
   "outputs": [],
   "source": [
    "\n",
    "# install dependencies: (use cu101 because colab has CUDA 10.1)\n",
    "!pip install -U torch==1.5 torchvision==0.6 -f https://download.pytorch.org/whl/cu101/torch_stable.html \n",
    "!pip install cython pyyaml==5.1\n",
    "!pip install -U 'git+https://github.com/cocodataset/cocoapi.git#subdirectory=PythonAPI'\n",
    "import torch, torchvision\n",
    "print(torch.__version__, torch.cuda.is_available())\n",
    "!gcc --version\n",
    "# opencv is pre-installed on colab"
   ]
  },
  {
   "cell_type": "code",
   "execution_count": null,
   "metadata": {
    "colab": {
     "base_uri": "https://localhost:8080/",
     "height": 35
    },
    "colab_type": "code",
    "id": "3llwRGnb1jyo",
    "outputId": "cda0dfb2-8ec6-431d-d68f-19e899fd98f1"
   },
   "outputs": [],
   "source": [
    "pwd"
   ]
  },
  {
   "cell_type": "code",
   "execution_count": null,
   "metadata": {
    "colab": {
     "base_uri": "https://localhost:8080/",
     "height": 119
    },
    "colab_type": "code",
    "id": "6sQwFPC70Sop",
    "outputId": "8e49954c-f3c4-43e8-9688-acd80cded6b9"
   },
   "outputs": [],
   "source": [
    "!git clone https://github.com/zhanghang1989/detectron2-ResNeSt.git"
   ]
  },
  {
   "cell_type": "code",
   "execution_count": null,
   "metadata": {
    "colab": {
     "base_uri": "https://localhost:8080/",
     "height": 34
    },
    "colab_type": "code",
    "id": "vf2PJGOF0TCP",
    "outputId": "8e3a4db9-8ecd-418f-acd2-335038e2d87a"
   },
   "outputs": [],
   "source": [
    "cd detectron2-ResNeSt"
   ]
  },
  {
   "cell_type": "code",
   "execution_count": null,
   "metadata": {
    "colab": {
     "base_uri": "https://localhost:8080/",
     "height": 853
    },
    "colab_type": "code",
    "id": "a-okBpA50TMZ",
    "outputId": "589d49b1-4601-410d-8750-fe04ac5d1c55"
   },
   "outputs": [],
   "source": [
    "!python -m pip install -e . "
   ]
  },
  {
   "cell_type": "code",
   "execution_count": null,
   "metadata": {
    "colab": {
     "base_uri": "https://localhost:8080/",
     "height": 802
    },
    "colab_type": "code",
    "id": "winUN6VQ0TVG",
    "outputId": "a52294e3-5fe0-4cb4-aa22-c590bbf02811"
   },
   "outputs": [],
   "source": [
    "# install detectron2:\n",
    "!pip install detectron2==0.1.2 -f https://dl.fbaipublicfiles.com/detectron2/wheels/cu101/index.html"
   ]
  },
  {
   "cell_type": "code",
   "execution_count": null,
   "metadata": {
    "colab": {},
    "colab_type": "code",
    "id": "GMkhx-uL0Teo"
   },
   "outputs": [],
   "source": [
    "\n",
    "# You may need to restart your runtime prior to this, to let your installation take effect\n",
    "# Some basic setup:\n",
    "# Setup detectron2 logger\n",
    "import detectron2\n",
    "from detectron2.utils.logger import setup_logger\n",
    "setup_logger()\n",
    "\n",
    "# import some common libraries\n",
    "import numpy as np\n",
    "import cv2\n",
    "import random\n",
    "from google.colab.patches import cv2_imshow\n",
    "\n",
    "# import some common detectron2 utilities\n",
    "from detectron2 import model_zoo\n",
    "from detectron2.engine import DefaultPredictor\n",
    "from detectron2.config import get_cfg\n",
    "from detectron2.utils.visualizer import Visualizer\n",
    "from detectron2.data import MetadataCatalog"
   ]
  },
  {
   "cell_type": "code",
   "execution_count": null,
   "metadata": {
    "colab": {},
    "colab_type": "code",
    "id": "AKDLNnzA0TmU"
   },
   "outputs": [],
   "source": [
    "os.chdir(\"/content/drive/My Drive/blitz/maskd\")"
   ]
  },
  {
   "cell_type": "code",
   "execution_count": null,
   "metadata": {
    "colab": {},
    "colab_type": "code",
    "id": "7bX3pJvN0Tt1"
   },
   "outputs": [],
   "source": [
    "# if your dataset is in COCO format, this cell can be replaced by the following three lines:\n",
    "from detectron2.data.datasets import register_coco_instances\n",
    "register_coco_instances(\"my_dataset_train\", {}, \"/content/drive/My Drive/blitz/maskd/train.json\", \"/content/drive/My Drive/blitz/maskd/train_images\")\n",
    "register_coco_instances(\"my_dataset_val\", {}, \"/content/drive/My Drive/blitz/maskd/val.json\", \"/content/drive/My Drive/blitz/maskd/val_images\")"
   ]
  },
  {
   "cell_type": "code",
   "execution_count": null,
   "metadata": {
    "colab": {},
    "colab_type": "code",
    "id": "wpFxfh9B0ydK"
   },
   "outputs": [],
   "source": [
    "from detectron2.engine import DefaultTrainer\n",
    "from detectron2.config import get_cfg\n",
    "\n",
    "cfg = get_cfg()\n",
    "cfg.merge_from_file(\"/content/drive/My Drive/blitz/maskd/detectron2-ResNeSt/configs/COCO-InstanceSegmentation/mask_cascade_rcnn_ResNeSt_101_FPN_syncBN_1x.yaml\")\n",
    "# cfg.merge_from_file(model_zoo.get_config_file(\"COCO-Detection/faster_rcnn_X_101_32x8d_FPN_3x.yaml\"))\n",
    "\n",
    "\n",
    "cfg.DATASETS.TRAIN = (\"my_dataset_train\",)\n",
    "cfg.DATASETS.TEST = ()\n",
    "cfg.DATALOADER.NUM_WORKERS = 2\n",
    "cfg.MODEL.WEIGHTS = \"https://s3.us-west-1.wasabisys.com/resnest/detectron/resnest101_detectron-486f69a8.pth\" # Let training initialize from model zoo\n",
    "# cfg.MODEL.WEIGHTS = model_zoo.get_checkpoint_url(\"COCO-Detection/faster_rcnn_X_101_32x8d_FPN_3x.yaml\")\n",
    "# cfg.MODEL.WEIGHTS = \"/content/drive/My Drive/blitz/maskd/output/cascadeRCNN_/train_2200(0.0005)_400(0.00025)_val_200(0.00025).pth\" # Let training initialize from model zoo\n",
    "\n",
    "cfg.SOLVER.IMS_PER_BATCH = 2\n",
    "cfg.SOLVER.BASE_LR = 0.00025  # pick a good LR\n",
    "cfg.SOLVER.MAX_ITER = 400  # 300 iterations seems good enough for this toy dataset; you may need to train longer for a practical dataset\n",
    "cfg.MODEL.ROI_HEADS.BATCH_SIZE_PER_IMAGE = 64   # faster, and good enough for this toy dataset (default: 512)\n",
    "cfg.MODEL.ROI_HEADS.NUM_CLASSES = 2  # only has one class (ballon)\n"
   ]
  },
  {
   "cell_type": "code",
   "execution_count": null,
   "metadata": {
    "colab": {
     "base_uri": "https://localhost:8080/",
     "height": 35
    },
    "colab_type": "code",
    "id": "aqQrHj8V0ynC",
    "outputId": "54546e93-8864-407d-8efa-5b27287341f5"
   },
   "outputs": [],
   "source": [
    "pwd"
   ]
  },
  {
   "cell_type": "code",
   "execution_count": null,
   "metadata": {
    "colab": {},
    "colab_type": "code",
    "id": "aZJsJH4F0yv0"
   },
   "outputs": [],
   "source": [
    "cfg.OUTPUT_DIR = \"./output/cascadeRCNN_/\"\n",
    "# cfg.OUTPUT_DIR = \"./output/faster_cascade_rcnn_ResNeSt_200_FPN_syncbn_range-scale_1x\""
   ]
  },
  {
   "cell_type": "code",
   "execution_count": null,
   "metadata": {
    "colab": {
     "base_uri": "https://localhost:8080/",
     "height": 1000
    },
    "colab_type": "code",
    "id": "HieC_Xtu0y4d",
    "outputId": "29ea60af-5819-43d0-9334-45e38d81264d"
   },
   "outputs": [],
   "source": [
    "os.makedirs(cfg.OUTPUT_DIR, exist_ok=True)\n",
    "trainer = DefaultTrainer(cfg) \n",
    "trainer.resume_or_load(resume=False)\n"
   ]
  },
  {
   "cell_type": "code",
   "execution_count": null,
   "metadata": {
    "colab": {
     "base_uri": "https://localhost:8080/",
     "height": 488
    },
    "colab_type": "code",
    "id": "Q7P0SeZE0zA9",
    "outputId": "92127d90-867b-4e09-ae6a-4d77b9bf4cc7"
   },
   "outputs": [],
   "source": [
    "trainer.train()"
   ]
  },
  {
   "cell_type": "code",
   "execution_count": null,
   "metadata": {
    "colab": {
     "base_uri": "https://localhost:8080/",
     "height": 35
    },
    "colab_type": "code",
    "id": "h-Qkxiq00zJy",
    "outputId": "b19aeedc-c974-4ba3-ac2f-b5b3b5628b7b"
   },
   "outputs": [],
   "source": [
    "cfg.OUTPUT_DIR"
   ]
  },
  {
   "cell_type": "code",
   "execution_count": null,
   "metadata": {
    "colab": {},
    "colab_type": "code",
    "id": "ashwUN7q0zRy"
   },
   "outputs": [],
   "source": [
    "cfg.MODEL.WEIGHTS = os.path.join(cfg.OUTPUT_DIR, \"model_final.pth\")\n",
    "cfg.MODEL.ROI_HEADS.SCORE_THRESH_TEST = 0.3   # set the testing threshold for this model\n",
    "cfg.DATASETS.TEST = (\"my_dataset_val\", )\n",
    "predictor = DefaultPredictor(cfg)"
   ]
  },
  {
   "cell_type": "code",
   "execution_count": null,
   "metadata": {
    "colab": {
     "base_uri": "https://localhost:8080/",
     "height": 1000
    },
    "colab_type": "code",
    "id": "_DO_dpp5-XDA",
    "outputId": "61072497-1d25-43d8-c40e-9a7e552d10a9"
   },
   "outputs": [],
   "source": [
    "from detectron2.evaluation import COCOEvaluator, inference_on_dataset\n",
    "from detectron2.data import build_detection_test_loader\n",
    "eval_folder = \"./output/cascadeRCNN_/evaluations\"\n",
    "os.makedirs(eval_folder, exist_ok=True)\n",
    "evaluator = COCOEvaluator(\"my_dataset_val\", cfg, False, output_dir=\"./output/cascadeRCNN_/evaluations/\")\n",
    "val_loader = build_detection_test_loader(cfg, \"my_dataset_val\")\n",
    "valResults = inference_on_dataset(trainer.model, val_loader, evaluator)"
   ]
  },
  {
   "cell_type": "code",
   "execution_count": null,
   "metadata": {
    "colab": {},
    "colab_type": "code",
    "id": "3g7XLxR_3o0i"
   },
   "outputs": [],
   "source": []
  },
  {
   "cell_type": "code",
   "execution_count": null,
   "metadata": {
    "colab": {},
    "colab_type": "code",
    "id": "977k8v0y3o6X"
   },
   "outputs": [],
   "source": []
  },
  {
   "cell_type": "code",
   "execution_count": null,
   "metadata": {
    "colab": {},
    "colab_type": "code",
    "id": "niLWZgcL3o_-"
   },
   "outputs": [],
   "source": [
    "import json\n",
    "with open('/content/drive/My Drive/blitz/maskd/train.json') as json_file:\n",
    "    train_anno = json.load(json_file)"
   ]
  },
  {
   "cell_type": "code",
   "execution_count": null,
   "metadata": {
    "colab": {
     "base_uri": "https://localhost:8080/",
     "height": 52
    },
    "colab_type": "code",
    "id": "nUYEHXM93zxA",
    "outputId": "be9d7fcc-4c9a-423f-f50c-1c5a5219d2c7"
   },
   "outputs": [],
   "source": [
    "train_anno['categories']"
   ]
  },
  {
   "cell_type": "code",
   "execution_count": null,
   "metadata": {
    "colab": {},
    "colab_type": "code",
    "id": "Ea3nWuKs33RX"
   },
   "outputs": [],
   "source": [
    "import os\n",
    "import json\n",
    "import torch, torchvision\n",
    "import detectron2\n",
    "import numpy as np\n",
    "import cv2\n",
    "from detectron2 import model_zoo\n",
    "from detectron2.engine import DefaultPredictor\n",
    "from detectron2.config import get_cfg\n",
    "from detectron2.structures import Boxes, BoxMode \n",
    "import pycocotools.mask as mask_util\n",
    "from pycocotools.coco import COCO\n",
    "from detectron2.engine import DefaultTrainer\n",
    "from detectron2.config import get_cfg\n",
    "from detectron2.structures import Boxes, BoxMode, pairwise_iou\n",
    "import pycocotools.mask as mask_util\n"
   ]
  },
  {
   "cell_type": "code",
   "execution_count": null,
   "metadata": {
    "colab": {
     "base_uri": "https://localhost:8080/",
     "height": 87
    },
    "colab_type": "code",
    "id": "tQbeD3DtIifO",
    "outputId": "3f9c5cbb-b3b4-4454-ae4f-e5626b846286"
   },
   "outputs": [],
   "source": [
    "json_file = \"/content/drive/My Drive/blitz/maskd/train.json\"\n",
    "coco_api = COCO(json_file)\n",
    "dataset_name = \"my_dataset_train\"\n",
    "id_map = None\n",
    "if dataset_name is not None:\n",
    "    meta = MetadataCatalog.get(dataset_name)\n",
    "    cat_ids = sorted(coco_api.getCatIds())\n",
    "    cats = coco_api.loadCats(cat_ids)\n",
    "    # The categories in a custom json file may not be sorted.\n",
    "    thing_classes = [c[\"name\"] for c in sorted(cats, key=lambda x: x[\"id\"])]\n",
    "    meta.thing_classes = thing_classes\n",
    "\n",
    "    # In COCO, certain category ids are artificially removed,\n",
    "    # and by convention they are always ignored.\n",
    "    # We deal with COCO's id issue and translate\n",
    "    # the category ids to contiguous ids in [0, 80).\n",
    "\n",
    "    # It works by looking at the \"categories\" field in the json, therefore\n",
    "    # if users' own json also have incontiguous ids, we'll\n",
    "    # apply this mapping as well but print a warning.\n",
    "    if not (min(cat_ids) == 1 and max(cat_ids) == len(cat_ids)):\n",
    "        if \"coco\" not in dataset_name:\n",
    "          print(\"We will apply mapping to you\")\n",
    "    id_map = {v: i for i, v in enumerate(cat_ids)}\n",
    "    meta.thing_dataset_id_to_contiguous_id = id_map"
   ]
  },
  {
   "cell_type": "code",
   "execution_count": null,
   "metadata": {
    "colab": {
     "base_uri": "https://localhost:8080/",
     "height": 35
    },
    "colab_type": "code",
    "id": "UbZWt7q8JZM9",
    "outputId": "42d1b506-8118-421c-d8d3-1cf0d46bd338"
   },
   "outputs": [],
   "source": [
    "dataset_name = \"my_dataset_train\"\n",
    "meta = MetadataCatalog.get(dataset_name)\n",
    "if hasattr(meta, \"thing_dataset_id_to_contiguous_id\"):\n",
    "            print(\"Hello\")\n",
    "            reverse_id_mapping = {\n",
    "                v: k for k, v in meta.thing_dataset_id_to_contiguous_id.items()\n",
    "            }"
   ]
  },
  {
   "cell_type": "code",
   "execution_count": null,
   "metadata": {
    "colab": {
     "base_uri": "https://localhost:8080/",
     "height": 55
    },
    "colab_type": "code",
    "id": "z2XYC_yBJrRm",
    "outputId": "85f83832-b3b3-48e9-f96d-ce01778f0f3e"
   },
   "outputs": [],
   "source": [
    "meta"
   ]
  },
  {
   "cell_type": "code",
   "execution_count": null,
   "metadata": {
    "colab": {
     "base_uri": "https://localhost:8080/",
     "height": 35
    },
    "colab_type": "code",
    "id": "C1aeKNjYJlI7",
    "outputId": "30554ce2-7e32-4dcf-acd6-bcc6809d3d1a"
   },
   "outputs": [],
   "source": [
    "reverse_id_mapping"
   ]
  },
  {
   "cell_type": "code",
   "execution_count": null,
   "metadata": {
    "colab": {},
    "colab_type": "code",
    "id": "jl7gpepvKEsZ"
   },
   "outputs": [],
   "source": [
    "model_path = '/content/drive/My Drive/blitz/maskd/output/cascadeRCNN_/model_final.pth'\n",
    "test_images_path = \"/content/drive/My Drive/blitz/maskd/test_images/\"\n",
    "cpu_device = torch.device(\"cpu\")"
   ]
  },
  {
   "cell_type": "code",
   "execution_count": null,
   "metadata": {
    "colab": {
     "base_uri": "https://localhost:8080/",
     "height": 52
    },
    "colab_type": "code",
    "id": "mX9INB7LJm3B",
    "outputId": "58b0e940-cf06-4fa2-9abf-7a6d7f95d31a"
   },
   "outputs": [],
   "source": [
    "#Solving extra category error in retinaNet\n",
    "def instances_to_coco_json(instances, img_id):\n",
    "    num_instance = len(instances)\n",
    "    if num_instance == 0:\n",
    "        return []\n",
    "\n",
    "    boxes = instances.pred_boxes.tensor.numpy()\n",
    "    boxes = BoxMode.convert(boxes, BoxMode.XYXY_ABS, BoxMode.XYWH_ABS)\n",
    "    boxes = boxes.tolist()\n",
    "    scores = instances.scores.tolist()\n",
    "    classes = instances.pred_classes.tolist()\n",
    "\n",
    "    has_mask = instances.has(\"pred_masks\")\n",
    "    if has_mask:\n",
    "        rles = [\n",
    "            mask_util.encode(np.array(mask[:, :, None], order=\"F\", dtype=\"uint8\"))[0]\n",
    "            for mask in instances.pred_masks\n",
    "        ]\n",
    "        for rle in rles:\n",
    "            rle[\"counts\"] = rle[\"counts\"].decode(\"utf-8\")\n",
    "\n",
    "    has_keypoints = instances.has(\"pred_keypoints\")\n",
    "    if has_keypoints:\n",
    "        keypoints = instances.pred_keypoints\n",
    "\n",
    "    results = []\n",
    "    for k in range(num_instance):\n",
    "        result = {\n",
    "            \"image_id\": img_id,\n",
    "            \"category_id\": classes[k],\n",
    "            \"bbox\": boxes[k],\n",
    "            \"score\": scores[k],\n",
    "        }\n",
    "        if has_mask:\n",
    "            result[\"segmentation\"] = rles[k]\n",
    "    \n",
    "        results.append(result)\n",
    "    return results\n",
    "\n",
    "\n",
    "\n",
    "\n",
    "\n",
    "\n",
    "\n",
    "cfg = get_cfg()\n",
    "cfg.merge_from_file(\"/content/drive/My Drive/blitz/maskd/detectron2-ResNeSt/configs/COCO-InstanceSegmentation/mask_cascade_rcnn_ResNeSt_101_FPN_syncBN_1x.yaml\")\n",
    "# cfg.merge_from_file(model_zoo.get_config_file(\"COCO-Detection/faster_rcnn_X_101_32x8d_FPN_3x.yaml\"))\n",
    "cfg.MODEL.WEIGHTS = model_path\n",
    "cfg.MODEL.ROI_HEADS.SCORE_THRESH_TEST = 0   # set the testing threshold for this model\n",
    "cfg.MODEL.ROI_HEADS.NUM_CLASSES = 2\n",
    "# cfg.MODEL.DEVICE = \"cpu\"\n",
    "predictor = DefaultPredictor(cfg)\n",
    "\n",
    "print(\"Done\")\n",
    "\n",
    "results = []\n",
    "\n",
    "for i in tqdm(os.listdir(test_images_path)):\n",
    "    # print(\" i \",i)\n",
    "    img_path =test_images_path + i\n",
    "    im = cv2.imread(img_path)\n",
    "    # print(img_path)\n",
    "    if(im is not None):\n",
    "        outputs = predictor(im)\n",
    "        instances = outputs[\"instances\"].to(cpu_device)\n",
    "        # print(outputs)\n",
    "        fname = i.split('.')[0]\n",
    "        result = instances_to_coco_json(instances,fname)\n",
    "        if(len(result)!=0):\n",
    "            for p in result:\n",
    "                matchId = p['category_id']\n",
    "                p['category_id'] = reverse_id_mapping[matchId]\n",
    "                results.append(p) \n",
    "    \n",
    "    "
   ]
  },
  {
   "cell_type": "code",
   "execution_count": null,
   "metadata": {
    "colab": {
     "base_uri": "https://localhost:8080/",
     "height": 35
    },
    "colab_type": "code",
    "id": "FWrGswSa7uGv",
    "outputId": "5843edf0-f650-4b70-fc7c-17c16571ba8d"
   },
   "outputs": [],
   "source": [
    "len(results)"
   ]
  },
  {
   "cell_type": "code",
   "execution_count": null,
   "metadata": {
    "colab": {},
    "colab_type": "code",
    "id": "SnGLF-8KTD7d"
   },
   "outputs": [],
   "source": [
    "with open('/content/drive/My Drive/blitz/maskd/test.json') as json_file:\n",
    "    x = json.load(json_file)\n",
    "\n",
    "for i in x['images']:\n",
    "    i['fname'] = i['file_name'].split('.')[0]\n",
    "\n",
    "for i in results:\n",
    "    image_mapper = i['image_id']\n",
    "    for j in x['images']:\n",
    "        if(image_mapper == j['fname']):\n",
    "            i['image_id'] = j['id']\n",
    "\n",
    "with open(\"/content/drive/My Drive/blitz/maskd/submissions/train_5000_0thres.json\", \"w\") as write_file:\n",
    "    json.dump(results, write_file)\n"
   ]
  }
 ],
 "metadata": {
  "accelerator": "GPU",
  "colab": {
   "collapsed_sections": [],
   "name": "csebmaskdTraining.ipynb",
   "provenance": []
  },
  "kernelspec": {
   "display_name": "Python 3",
   "language": "python",
   "name": "python3"
  },
  "language_info": {
   "codemirror_mode": {
    "name": "ipython",
    "version": 3
   },
   "file_extension": ".py",
   "mimetype": "text/x-python",
   "name": "python",
   "nbconvert_exporter": "python",
   "pygments_lexer": "ipython3",
   "version": "3.7.1"
  }
 },
 "nbformat": 4,
 "nbformat_minor": 1
}

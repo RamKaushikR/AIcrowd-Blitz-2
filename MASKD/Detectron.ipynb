{
 "cells": [
  {
   "cell_type": "code",
   "execution_count": null,
   "metadata": {},
   "outputs": [],
   "source": [
    "import numpy as np\n",
    "import os\n",
    "import cv2\n",
    "import random\n",
    "import json\n",
    "from tqdm.notebook import tqdm\n",
    "import detectron2\n",
    "from detectron2 import model_zoo\n",
    "from detectron2.engine import DefaultTrainer, DefaultPredictor\n",
    "from detectron2.evaluation import COCOEvaluator, inference_on_dataset\n",
    "from detectron2.config import get_cfg\n",
    "from detectron2.data import MetadataCatalog, DatasetCatalog, build_detection_test_loader\n",
    "from detectron2.data.datasets import register_coco_instances\n",
    "# from detectron2.utils.visualizer import Visualizer\n",
    "# from detectron2.data.catalog import DatasetCatalog"
   ]
  },
  {
   "cell_type": "code",
   "execution_count": null,
   "metadata": {},
   "outputs": [],
   "source": [
    "register_coco_instances('train', {}, 'data/train.json', 'data/train_images/')\n",
    "register_coco_instances('val', {}, 'data/val.json', 'data/val_images/')\n",
    "register_coco_instances('test', {}, 'data/test.json', 'data/test_images/')"
   ]
  },
  {
   "cell_type": "code",
   "execution_count": null,
   "metadata": {},
   "outputs": [],
   "source": [
    "class COCOTrainer(DefaultTrainer):\n",
    "    @classmethod\n",
    "    def build_evaluator(cls, cfg, dataset_name, output_folder=None):\n",
    "        if output_folder is None:\n",
    "            os.makedirs('coco_eval', exist_ok=True)\n",
    "            output_folder = 'coco_eval'\n",
    "        return COCOEvaluator(dataset_name, cfg, False, output_folder)"
   ]
  },
  {
   "cell_type": "code",
   "execution_count": null,
   "metadata": {},
   "outputs": [],
   "source": [
    "config = get_cfg()\n",
    "config.merge_from_file(model_zoo.get_config_file('COCO-Detection/faster_rcnn_X_101_32x8d_FPN_3x.yaml'))\n",
    "config.DATASETS.TRAIN = ('train',)\n",
    "config.DATASETS.TEST = ('val',)\n",
    "\n",
    "config.DATALOADER.NUM_WORKERS = 8\n",
    "config.MODEL.WEIGHTS = model_zoo.get_checkpoint_url('COCO-Detection/faster_rcnn_X_101_32x8d_FPN_3x.yaml')  # Let training initialize from model zoo\n",
    "config.SOLVER.IMS_PER_BATCH = 4\n",
    "config.SOLVER.BASE_LR = 0.001\n",
    "\n",
    "config.SOLVER.WARMUP_ITERS = 1000\n",
    "config.SOLVER.MAX_ITER = 2000 #adjust up if val mAP is still rising, adjust down if overfit\n",
    "config.SOLVER.STEPS = (1000, 1500)\n",
    "config.SOLVER.GAMMA = 0.05\n",
    "\n",
    "config.MODEL.ROI_HEADS.BATCH_SIZE_PER_IMAGE = 64\n",
    "config.MODEL.ROI_HEADS.NUM_CLASSES = 2 #your number of classes + 1\n",
    "\n",
    "config.TEST.EVAL_PERIOD = 500"
   ]
  },
  {
   "cell_type": "code",
   "execution_count": null,
   "metadata": {},
   "outputs": [],
   "source": [
    "os.makedirs(config.OUTPUT_DIR, exist_ok=True)"
   ]
  },
  {
   "cell_type": "code",
   "execution_count": null,
   "metadata": {
    "scrolled": true
   },
   "outputs": [],
   "source": [
    "trainer = COCOTrainer(config)\n",
    "trainer.resume_or_load(resume=False)"
   ]
  },
  {
   "cell_type": "code",
   "execution_count": null,
   "metadata": {
    "scrolled": true
   },
   "outputs": [],
   "source": [
    "trainer.train()"
   ]
  },
  {
   "cell_type": "code",
   "execution_count": null,
   "metadata": {},
   "outputs": [],
   "source": [
    "config.MODEL.WEIGHTS = os.path.join(config.OUTPUT_DIR, 'model_final.pth')\n",
    "config.DATASETS.TEST = ('test',)\n",
    "config.MODEL.ROI_HEADS.SCORE_THRESH_TEST = 0.5"
   ]
  },
  {
   "cell_type": "code",
   "execution_count": null,
   "metadata": {},
   "outputs": [],
   "source": [
    "predictor = DefaultPredictor(config)"
   ]
  },
  {
   "cell_type": "code",
   "execution_count": null,
   "metadata": {},
   "outputs": [],
   "source": [
    "with open('data/test.json') as json_file:\n",
    "    data = json.load(json_file)"
   ]
  },
  {
   "cell_type": "code",
   "execution_count": null,
   "metadata": {},
   "outputs": [],
   "source": [
    "test_images_map_id={}\n",
    "for x in data['images']:\n",
    "    test_images_map_id[x['file_name']] = x['id']"
   ]
  },
  {
   "cell_type": "code",
   "execution_count": null,
   "metadata": {
    "scrolled": true
   },
   "outputs": [],
   "source": [
    "files = os.listdir('data/test_images')\n",
    "_final_object = []\n",
    "for f in tqdm(files, total=len(files)):\n",
    "    try:\n",
    "        images = cv2.imread('data/test_images/' + f)\n",
    "        predictions = predictor(images)['instances'].get_fields()\n",
    "        classes = predictions['pred_classes'].tolist()\n",
    "        scores = predictions['scores'].tolist()\n",
    "        bbox = predictions['pred_boxes'].tensor.tolist()\n",
    "        \n",
    "        for idx in range(len(classes)):\n",
    "            c = classes[idx]\n",
    "            s = scores[idx]\n",
    "            b = bbox[idx]\n",
    "            _result = {}\n",
    "            _result['image_id'] = test_images_map_id[f]\n",
    "            _result['bbox'] = [b[0], b[1], b[2] - b[0], b[3] - b[1]]\n",
    "            _result['score'] = s\n",
    "            _result['category_id'] = c + 1\n",
    "            _final_object.append(_result)\n",
    "\n",
    "    except:\n",
    "        print('Error with',f)\n",
    "        continue"
   ]
  },
  {
   "cell_type": "code",
   "execution_count": null,
   "metadata": {},
   "outputs": [],
   "source": [
    "fp = open('data/submission.json', 'w')\n",
    "print('Writing JSON...')\n",
    "fp.write(json.dumps(_final_object))\n",
    "fp.close()"
   ]
  }
 ],
 "metadata": {
  "kernelspec": {
   "display_name": "Python 3",
   "language": "python",
   "name": "python3"
  },
  "language_info": {
   "codemirror_mode": {
    "name": "ipython",
    "version": 3
   },
   "file_extension": ".py",
   "mimetype": "text/x-python",
   "name": "python",
   "nbconvert_exporter": "python",
   "pygments_lexer": "ipython3",
   "version": "3.7.1"
  }
 },
 "nbformat": 4,
 "nbformat_minor": 4
}

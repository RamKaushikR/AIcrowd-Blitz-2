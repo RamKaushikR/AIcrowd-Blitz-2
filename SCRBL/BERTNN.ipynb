{
 "cells": [
  {
   "cell_type": "code",
   "execution_count": null,
   "metadata": {},
   "outputs": [],
   "source": [
    "import warnings\n",
    "warnings.filterwarnings('ignore')"
   ]
  },
  {
   "cell_type": "code",
   "execution_count": null,
   "metadata": {},
   "outputs": [],
   "source": [
    "import numpy as np\n",
    "import pandas as pd\n",
    "from sklearn.metrics import f1_score, precision_score, recall_score, accuracy_score\n",
    "from keras.layers import Conv1D, Dense, Dropout, Input, Flatten\n",
    "from keras.models import Model\n",
    "from keras.callbacks import ModelCheckpoint\n",
    "from tensorflow import set_random_seed"
   ]
  },
  {
   "cell_type": "code",
   "execution_count": null,
   "metadata": {},
   "outputs": [],
   "source": [
    "train_path = 'data/train.csv'\n",
    "val_path = 'data/val.csv'\n",
    "test_path = 'data/test.csv'\n",
    "SEED = 42"
   ]
  },
  {
   "cell_type": "code",
   "execution_count": null,
   "metadata": {},
   "outputs": [],
   "source": [
    "set_random_seed(SEED)"
   ]
  },
  {
   "cell_type": "code",
   "execution_count": null,
   "metadata": {},
   "outputs": [],
   "source": [
    "df_train = pd.read_csv(train_path)\n",
    "df_train.head()"
   ]
  },
  {
   "cell_type": "code",
   "execution_count": null,
   "metadata": {},
   "outputs": [],
   "source": [
    "df_val = pd.read_csv(val_path)\n",
    "df_val.head()"
   ]
  },
  {
   "cell_type": "code",
   "execution_count": null,
   "metadata": {},
   "outputs": [],
   "source": [
    "df_test = pd.read_csv(test_path)\n",
    "df_test.head()"
   ]
  },
  {
   "cell_type": "code",
   "execution_count": null,
   "metadata": {},
   "outputs": [],
   "source": [
    "y = list(df_train['label'])\n",
    "y_train = []\n",
    "for l in y:\n",
    "    if l == 'scrambled':\n",
    "        y_train.append(1)\n",
    "    else:\n",
    "        y_train.append(0)\n",
    "y_train = np.array(y_train)"
   ]
  },
  {
   "cell_type": "code",
   "execution_count": null,
   "metadata": {},
   "outputs": [],
   "source": [
    "y = list(df_val['label'])\n",
    "y_val = []\n",
    "for l in y:\n",
    "    if l == 'scrambled':\n",
    "        y_val.append(1)\n",
    "    else:\n",
    "        y_val.append(0)\n",
    "y_val = np.array(y_val)"
   ]
  },
  {
   "cell_type": "code",
   "execution_count": null,
   "metadata": {},
   "outputs": [],
   "source": [
    "del df_train, df_val, df_test, y"
   ]
  },
  {
   "cell_type": "code",
   "execution_count": null,
   "metadata": {},
   "outputs": [],
   "source": [
    "with open('train_encodings.npy', 'rb') as f:\n",
    "    train_encodings = np.load(f)\n",
    "with open('val_encodings.npy', 'rb') as f:\n",
    "    val_encodings = np.load(f)\n",
    "with open('test_encodings.npy', 'rb') as f:\n",
    "    test_encodings = np.load(f)"
   ]
  },
  {
   "cell_type": "code",
   "execution_count": null,
   "metadata": {},
   "outputs": [],
   "source": [
    "train_encodings = train_encodings.reshape(train_encodings.shape[0], train_encodings.shape[1], 1)\n",
    "val_encodings = val_encodings.reshape(val_encodings.shape[0], val_encodings.shape[1], 1)\n",
    "test_encodings = test_encodings.reshape(test_encodings.shape[0], test_encodings.shape[1], 1)"
   ]
  },
  {
   "cell_type": "code",
   "execution_count": null,
   "metadata": {},
   "outputs": [],
   "source": [
    "layer = Input(shape=(768,1))\n",
    "conv_1 = Conv1D(filters=256, kernel_size=2, padding='valid', activation='relu')(layer)\n",
    "conv_2 = Conv1D(filters=256, kernel_size=2, padding='valid', activation='relu')(conv_1)\n",
    "conv_3 = Conv1D(filters=256, kernel_size=2, padding='valid', activation='relu')(conv_2)\n",
    "flatten = Flatten()(conv_3)\n",
    "dense_1 = Dense(units=256, activation='relu')(flatten)\n",
    "dense_2 = Dense(units=64, activation='relu')(dense_1)\n",
    "dense_3 = Dense(units=16, activation='relu')(dense_2)\n",
    "dense_4 = Dense(units=4, activation='relu')(dense_3)\n",
    "out = Dense(units=1, activation='sigmoid')(dense_4)"
   ]
  },
  {
   "cell_type": "code",
   "execution_count": null,
   "metadata": {
    "scrolled": true
   },
   "outputs": [],
   "source": [
    "model = Model(inputs=layer, outputs=out)\n",
    "model.compile(optimizer='adam', loss='binary_crossentropy', metrics=['accuracy'])\n",
    "model.summary()"
   ]
  },
  {
   "cell_type": "code",
   "execution_count": null,
   "metadata": {},
   "outputs": [],
   "source": [
    "checkpoint = ModelCheckpoint('ckpnt_{epoch:02d}.h5', save_weights_only=True, period=2)"
   ]
  },
  {
   "cell_type": "code",
   "execution_count": null,
   "metadata": {
    "scrolled": true
   },
   "outputs": [],
   "source": [
    "model.fit(train_encodings, y_train, batch_size=64,\n",
    "          epochs=20, validation_data=(val_encodings, y_val),\n",
    "          callbacks=[checkpoint])"
   ]
  },
  {
   "cell_type": "code",
   "execution_count": null,
   "metadata": {},
   "outputs": [],
   "source": [
    "model.load_weights('ckpnt_06.h5')"
   ]
  },
  {
   "cell_type": "code",
   "execution_count": null,
   "metadata": {},
   "outputs": [],
   "source": [
    "y_pred = np.array((model.predict(val_encodings) >= 0.5).astype(int))"
   ]
  },
  {
   "cell_type": "code",
   "execution_count": null,
   "metadata": {},
   "outputs": [],
   "source": [
    "precision = precision_score(y_val, y_pred, average='micro')\n",
    "recall = recall_score(y_val, y_pred, average='micro')\n",
    "accuracy = accuracy_score(y_val, y_pred)\n",
    "f1 = f1_score(y_val, y_pred, average='macro')"
   ]
  },
  {
   "cell_type": "code",
   "execution_count": null,
   "metadata": {},
   "outputs": [],
   "source": [
    "print(accuracy)\n",
    "print(precision)\n",
    "print(recall)\n",
    "print(f1)"
   ]
  },
  {
   "cell_type": "code",
   "execution_count": null,
   "metadata": {},
   "outputs": [],
   "source": [
    "pred = np.array((model.predict(test_encodings) >= 0.5).astype(int))\n",
    "y_test = []\n",
    "for i in range(len(pred)):\n",
    "    if pred[i] == 1:\n",
    "        y_test.append('scrambled')\n",
    "    else:\n",
    "        y_test.append('unscrambled')"
   ]
  },
  {
   "cell_type": "code",
   "execution_count": null,
   "metadata": {},
   "outputs": [],
   "source": [
    "submission = pd.DataFrame(y_test)\n",
    "submission.to_csv('data/submission.csv', header=['label'], index=False)"
   ]
  }
 ],
 "metadata": {
  "kernelspec": {
   "display_name": "Python 3",
   "language": "python",
   "name": "python3"
  },
  "language_info": {
   "codemirror_mode": {
    "name": "ipython",
    "version": 3
   },
   "file_extension": ".py",
   "mimetype": "text/x-python",
   "name": "python",
   "nbconvert_exporter": "python",
   "pygments_lexer": "ipython3",
   "version": "3.7.1"
  }
 },
 "nbformat": 4,
 "nbformat_minor": 4
}

{
 "cells": [
  {
   "cell_type": "code",
   "execution_count": null,
   "metadata": {},
   "outputs": [],
   "source": [
    "import warnings\n",
    "warnings.filterwarnings('ignore')"
   ]
  },
  {
   "cell_type": "code",
   "execution_count": null,
   "metadata": {},
   "outputs": [],
   "source": [
    "import os\n",
    "import cv2\n",
    "import tqdm\n",
    "import numpy as np\n",
    "import pandas as pd\n",
    "import preprocess_crop\n",
    "import matplotlib.pyplot as plt\n",
    "from sklearn.metrics import mean_absolute_error, mean_squared_error\n",
    "from tensorflow.keras.applications.resnet50 import ResNet50, preprocess_input\n",
    "from tensorflow.keras.preprocessing.image import ImageDataGenerator\n",
    "from tensorflow.keras.layers import Dense, Activation, Flatten\n",
    "from tensorflow.keras.models import Sequential, Model\n",
    "from tensorflow.keras.callbacks import ModelCheckpoint"
   ]
  },
  {
   "cell_type": "code",
   "execution_count": null,
   "metadata": {},
   "outputs": [],
   "source": [
    "TRAIN_IMAGES = 'data/training/images/'\n",
    "TRAIN_LABELS = 'data/training/labels.csv'\n",
    "TEST_IMAGES = 'data/images/'\n",
    "SAMPLE = 'data/sample_submission.csv'"
   ]
  },
  {
   "cell_type": "code",
   "execution_count": null,
   "metadata": {},
   "outputs": [],
   "source": [
    "df_train_labels = pd.read_csv(TRAIN_LABELS)\n",
    "df_train_labels.head()"
   ]
  },
  {
   "cell_type": "code",
   "execution_count": null,
   "metadata": {},
   "outputs": [],
   "source": [
    "plt.figure(figsize=(20, 20))\n",
    "for i in range(16):\n",
    "    filename, xRot = df_train_labels.iloc[i]\n",
    "    filepath = os.path.join(TRAIN_IMAGES, filename)\n",
    "    image = cv2.imread(filepath)\n",
    "    image = cv2.resize(image, (224, 224))\n",
    "    plt.subplot(4, 4, i+1)\n",
    "    plt.axis('off')\n",
    "    plt.title(\"xRot: %.3f\" % (xRot))\n",
    "    plt.imshow(image)"
   ]
  },
  {
   "cell_type": "code",
   "execution_count": null,
   "metadata": {},
   "outputs": [],
   "source": [
    "datagen = ImageDataGenerator(shear_range=0.2,\n",
    "                             zoom_range=0.2,\n",
    "                             preprocessing_function=preprocess_input,\n",
    "                             validation_split=0.2)"
   ]
  },
  {
   "cell_type": "code",
   "execution_count": null,
   "metadata": {},
   "outputs": [],
   "source": [
    "SIZE = (224, 224, 3)"
   ]
  },
  {
   "cell_type": "code",
   "execution_count": null,
   "metadata": {},
   "outputs": [],
   "source": [
    "train_generator = datagen.flow_from_dataframe(dataframe=df_train_labels,\n",
    "                                              directory='data/training/images/',\n",
    "                                              x_col='filename',\n",
    "                                              y_col='xRot',\n",
    "                                              subset='training',\n",
    "                                              batch_size=8,\n",
    "                                              seed=42,\n",
    "                                              shuffle=True,\n",
    "                                              class_mode='raw',\n",
    "                                              target_size=SIZE[:2])\n",
    "\n",
    "val_generator = datagen.flow_from_dataframe(dataframe=df_train_labels,\n",
    "                                              directory='data/training/images/',\n",
    "                                              x_col='filename',\n",
    "                                              y_col='xRot',\n",
    "                                              subset='validation',\n",
    "                                              batch_size=8,\n",
    "                                              seed=42,\n",
    "                                              shuffle=True,\n",
    "                                              class_mode='raw',\n",
    "                                              target_size=SIZE[:2])"
   ]
  },
  {
   "cell_type": "code",
   "execution_count": null,
   "metadata": {},
   "outputs": [],
   "source": [
    "resnet_base = ResNet50(include_top=False, input_shape=SIZE, pooling='max')\n",
    "for layer in resnet_base.layers:\n",
    "    layer.trainable = True"
   ]
  },
  {
   "cell_type": "code",
   "execution_count": null,
   "metadata": {},
   "outputs": [],
   "source": [
    "resnet_output = resnet_base.get_layer('conv5_block3_out').output\n",
    "layer = Flatten()(resnet_output)\n",
    "layer = Dense(units=256, activation='relu')(layer)\n",
    "layer = Dense(units=64, activation='relu')(layer)\n",
    "layer = Dense(units=16, activation='relu')(layer)\n",
    "layer = Dense(units=4, activation='relu')(layer)\n",
    "layer = Dense(units=1, activation='linear')(layer)"
   ]
  },
  {
   "cell_type": "code",
   "execution_count": null,
   "metadata": {
    "scrolled": true
   },
   "outputs": [],
   "source": [
    "model = Model(resnet_base.input, layer)\n",
    "model.compile(optimizer='RMSprop', loss='mse', metrics=['mse', 'mae'])\n",
    "model.summary()"
   ]
  },
  {
   "cell_type": "code",
   "execution_count": null,
   "metadata": {},
   "outputs": [],
   "source": [
    "STEP_SIZE_TRAIN = train_generator.n // train_generator.batch_size\n",
    "STEP_SIZE_VAL = val_generator.n // val_generator.batch_size"
   ]
  },
  {
   "cell_type": "code",
   "execution_count": null,
   "metadata": {},
   "outputs": [],
   "source": [
    "checkpoint = ModelCheckpoint('ckpnt_{epoch:02d}.h5', save_weights_only=True, period=2)"
   ]
  },
  {
   "cell_type": "code",
   "execution_count": null,
   "metadata": {
    "scrolled": true
   },
   "outputs": [],
   "source": [
    "model.fit_generator(train_generator,\n",
    "                    steps_per_epoch=STEP_SIZE_TRAIN,\n",
    "                    validation_data=val_generator,\n",
    "                    validation_steps=STEP_SIZE_VAL,\n",
    "                    epochs=15,\n",
    "                    callbacks=[checkpoint])"
   ]
  },
  {
   "cell_type": "code",
   "execution_count": null,
   "metadata": {},
   "outputs": [],
   "source": [
    "model.load_weights('ckpnt_14.h5')"
   ]
  },
  {
   "cell_type": "code",
   "execution_count": null,
   "metadata": {},
   "outputs": [],
   "source": [
    "val_files = val_generator.filenames"
   ]
  },
  {
   "cell_type": "code",
   "execution_count": null,
   "metadata": {},
   "outputs": [],
   "source": [
    "y_val = []\n",
    "y_pred = []\n",
    "for file in val_files:\n",
    "    image = cv2.imread(TRAIN_IMAGES + file)\n",
    "    image = cv2.resize(image, (224, 224))\n",
    "    image = np.reshape(image, (1, image.shape[0], image.shape[1], image.shape[2]))\n",
    "    image = preprocess_input(image)\n",
    "    \n",
    "    y_pred.append(model.predict(image)[0][0])\n",
    "    xrot = df_train_labels[df_train_labels['filename'] == file]['xRot'].item()\n",
    "    y_val.append(xrot)\n",
    "    \n",
    "    del image"
   ]
  },
  {
   "cell_type": "code",
   "execution_count": null,
   "metadata": {},
   "outputs": [],
   "source": [
    "y_val = np.array(y_val)\n",
    "y_pred = np.array(y_pred)"
   ]
  },
  {
   "cell_type": "code",
   "execution_count": null,
   "metadata": {},
   "outputs": [],
   "source": [
    "print(mean_absolute_error(y_val, y_pred))\n",
    "print(mean_squared_error(y_val, y_pred))"
   ]
  },
  {
   "cell_type": "code",
   "execution_count": null,
   "metadata": {},
   "outputs": [],
   "source": [
    "test_files = os.listdir(TEST_IMAGES)\n",
    "test_files.sort()"
   ]
  },
  {
   "cell_type": "code",
   "execution_count": null,
   "metadata": {
    "scrolled": true
   },
   "outputs": [],
   "source": [
    "predictions = []\n",
    "for file in test_files:\n",
    "    image = cv2.imread(TEST_IMAGES + file)\n",
    "    image = cv2.resize(image, (224, 224))\n",
    "    image = np.reshape(image, (1, image.shape[0], image.shape[1], image.shape[2]))\n",
    "    image = preprocess_input(image)\n",
    "    \n",
    "    pred = model.predict(image)\n",
    "    predictions.append(pred[0][0])\n",
    "    \n",
    "    del image, pred"
   ]
  },
  {
   "cell_type": "code",
   "execution_count": null,
   "metadata": {},
   "outputs": [],
   "source": [
    "submissions = pd.DataFrame(predictions, columns=['xRot'])\n",
    "submissions['filename'] = test_files"
   ]
  },
  {
   "cell_type": "code",
   "execution_count": null,
   "metadata": {},
   "outputs": [],
   "source": [
    "submissions.head()"
   ]
  },
  {
   "cell_type": "code",
   "execution_count": null,
   "metadata": {},
   "outputs": [],
   "source": [
    "submissions.to_csv('data/submission.csv', index=False)"
   ]
  }
 ],
 "metadata": {
  "kernelspec": {
   "display_name": "Python 3",
   "language": "python",
   "name": "python3"
  },
  "language_info": {
   "codemirror_mode": {
    "name": "ipython",
    "version": 3
   },
   "file_extension": ".py",
   "mimetype": "text/x-python",
   "name": "python",
   "nbconvert_exporter": "python",
   "pygments_lexer": "ipython3",
   "version": "3.7.1"
  }
 },
 "nbformat": 4,
 "nbformat_minor": 4
}
